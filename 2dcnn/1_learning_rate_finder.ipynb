{
 "cells": [
  {
   "cell_type": "code",
   "execution_count": 1,
   "id": "5a20b53b",
   "metadata": {
    "ExecuteTime": {
     "end_time": "2024-10-23T14:31:41.582423Z",
     "start_time": "2024-10-23T14:31:38.918053Z"
    }
   },
   "outputs": [
    {
     "name": "stderr",
     "output_type": "stream",
     "text": [
      "2024-10-23 10:31:39.146347: I tensorflow/core/platform/cpu_feature_guard.cc:182] This TensorFlow binary is optimized to use available CPU instructions in performance-critical operations.\n",
      "To enable the following instructions: AVX2 FMA, in other operations, rebuild TensorFlow with the appropriate compiler flags.\n"
     ]
    }
   ],
   "source": [
    "import pychemauth\n",
    "import pickle\n",
    "\n",
    "from pychemauth.classifier.cnn import CNNFactory"
   ]
  },
  {
   "cell_type": "code",
   "execution_count": 2,
   "id": "1fcda7ec",
   "metadata": {
    "ExecuteTime": {
     "end_time": "2024-10-23T14:31:41.635246Z",
     "start_time": "2024-10-23T14:31:41.585112Z"
    }
   },
   "outputs": [
    {
     "name": "stdout",
     "output_type": "stream",
     "text": [
      "Python implementation: CPython\n",
      "Python version       : 3.11.4\n",
      "IPython version      : 8.14.0\n",
      "\n",
      "Compiler    : GCC 12.2.0\n",
      "OS          : Linux\n",
      "Release     : 6.8.0-47-generic\n",
      "Machine     : x86_64\n",
      "Processor   : x86_64\n",
      "CPU cores   : 40\n",
      "Architecture: 64bit\n",
      "\n",
      "watermark : 2.4.3\n",
      "pychemauth: 0.0.0b4\n",
      "\n"
     ]
    }
   ],
   "source": [
    "import watermark\n",
    "%load_ext watermark\n",
    "\n",
    "%load_ext autoreload\n",
    "%autoreload 2\n",
    "\n",
    "%watermark -t -m -v --iversions"
   ]
  },
  {
   "cell_type": "markdown",
   "id": "48234a54",
   "metadata": {
    "heading_collapsed": true
   },
   "source": [
    "# Make Dataset"
   ]
  },
  {
   "cell_type": "code",
   "execution_count": 4,
   "id": "86e07113",
   "metadata": {
    "ExecuteTime": {
     "end_time": "2024-10-23T00:14:42.707363Z",
     "start_time": "2024-10-23T00:14:40.729595Z"
    },
    "hidden": true
   },
   "outputs": [
    {
     "name": "stderr",
     "output_type": "stream",
     "text": [
      "Using the latest cached version of the module from /home/nam4/.cache/huggingface/modules/datasets_modules/datasets/mahynski--pgaa-sample-gadf-images/400aec67cd0d40bf05365b805511e64620c2fc8132651d6a983682735c03897d (last modified on Tue Oct 22 19:29:42 2024) since it couldn't be found locally at mahynski/pgaa-sample-gadf-images, or remotely on the Hugging Face Hub.\n"
     ]
    }
   ],
   "source": [
    "image_size = (2631, 2631, 1)\n",
    "n_classes = 10\n",
    "    \n",
    "build_from_scratch = False\n",
    "\n",
    "if build_from_scratch:\n",
    "    # Build the dataset locally from scratch\n",
    "    from pychemauth.datasets import make_pgaa_images\n",
    "    from pyts.image import GramianAngularField\n",
    "    \n",
    "    res = make_pgaa_images(\n",
    "        transformer=GramianAngularField(method='difference'), \n",
    "        exclude_classes=['Carbon Powder', 'Phosphate Rock', 'Zircaloy'], \n",
    "        directory='./2d-dataset', \n",
    "        overwrite=False, \n",
    "        fmt='npy', \n",
    "        valid_range=(0, image_size[0]), \n",
    "        renormalize=True,\n",
    "        test_size=0.2,\n",
    "        random_state=42\n",
    "    )\n",
    "    \n",
    "    loader = pychemauth.utils.NNTools.build_loader('./2d-dataset/train/', batch_size=30, shuffle=False)\n",
    "else:\n",
    "    # Load dataset from HuggingFace\n",
    "    from pychemauth.utils import NNTools\n",
    "    from datasets import load_dataset\n",
    "    \n",
    "    dataset_fnames = load_dataset(\n",
    "      \"mahynski/pgaa-sample-gadf-images\", \n",
    "      split=\"train\",\n",
    "      token=\"hf_*\", # Enter your own token here\n",
    "      trust_remote_code=True, # This is important to include\n",
    "      name='filenames' # This is the default\n",
    "    )\n",
    "\n",
    "    loader = NNTools.XLoader(\n",
    "        x_files = [entry['filename'] for entry in dataset_fnames],\n",
    "        y = [entry['label'] for entry in dataset_fnames],\n",
    "        batch_size=30,\n",
    "        exclude=[10, 11, 12], # -> ['Carbon Powder', 'Phosphate Rock', 'Zircaloy']\n",
    "        shuffle=False\n",
    "    )"
   ]
  },
  {
   "cell_type": "markdown",
   "id": "b3aa23b4",
   "metadata": {
    "heading_collapsed": true
   },
   "source": [
    "# Model 1"
   ]
  },
  {
   "cell_type": "code",
   "execution_count": 5,
   "id": "af277d41",
   "metadata": {
    "ExecuteTime": {
     "end_time": "2024-10-23T00:15:04.872793Z",
     "start_time": "2024-10-23T00:15:04.796286Z"
    },
    "hidden": true
   },
   "outputs": [],
   "source": [
    "cnn_builder = CNNFactory(\n",
    "    name='mobilenetv3small',\n",
    "    input_size=image_size,\n",
    "    n_classes=n_classes,\n",
    "    pixel_range=(-1,1),\n",
    "    cam=True,\n",
    "    dropout=0.2\n",
    ") "
   ]
  },
  {
   "cell_type": "code",
   "execution_count": 6,
   "id": "11ce6ace",
   "metadata": {
    "ExecuteTime": {
     "end_time": "2024-10-23T00:15:07.242142Z",
     "start_time": "2024-10-23T00:15:05.432617Z"
    },
    "hidden": true
   },
   "outputs": [
    {
     "name": "stdout",
     "output_type": "stream",
     "text": [
      "WARNING:tensorflow:`input_shape` is undefined or non-square, or `rows` is not 224. Weights for input shape (224, 224) will be loaded as the default.\n",
      "Model: \"model\"\n",
      "_________________________________________________________________\n",
      " Layer (type)                Output Shape              Param #   \n",
      "=================================================================\n",
      " input_2 (InputLayer)        [(None, 2631, 2631, 1)]   0         \n",
      "                                                                 \n",
      " conv2d (Conv2D)             (None, 2631, 2631, 3)     3         \n",
      "                                                                 \n",
      " rescaling_1 (Rescaling)     (None, 2631, 2631, 3)     0         \n",
      "                                                                 \n",
      " MobilenetV3small (Function  (None, 83, 83, 576)       939120    \n",
      " al)                                                             \n",
      "                                                                 \n",
      " global_average_pooling2d (  (None, 576)               0         \n",
      " GlobalAveragePooling2D)                                         \n",
      "                                                                 \n",
      " dropout (Dropout)           (None, 576)               0         \n",
      "                                                                 \n",
      " dense (Dense)               (None, 10)                5770      \n",
      "                                                                 \n",
      "=================================================================\n",
      "Total params: 944893 (3.60 MB)\n",
      "Trainable params: 5770 (22.54 KB)\n",
      "Non-trainable params: 939123 (3.58 MB)\n",
      "_________________________________________________________________\n"
     ]
    }
   ],
   "source": [
    "cnn_builder.build().summary()"
   ]
  },
  {
   "cell_type": "code",
   "execution_count": 7,
   "id": "8fb90ee8",
   "metadata": {
    "ExecuteTime": {
     "end_time": "2024-10-23T00:37:44.828146Z",
     "start_time": "2024-10-23T00:15:10.722668Z"
    },
    "hidden": true
   },
   "outputs": [
    {
     "name": "stdout",
     "output_type": "stream",
     "text": [
      "WARNING:tensorflow:`input_shape` is undefined or non-square, or `rows` is not 224. Weights for input shape (224, 224) will be loaded as the default.\n"
     ]
    },
    {
     "name": "stderr",
     "output_type": "stream",
     "text": [
      "Iterating through all batches to summarize, be patient...: 0it [00:00, ?it/s]\n",
      "Iterating through all batches to summarize, be patient...: 0it [00:00, ?it/s]\n",
      "Iterating through all batches to summarize, be patient...: 0it [00:00, ?it/s]\n",
      "Iterating through all batches to summarize, be patient...: 0it [00:00, ?it/s]\n",
      "Iterating through all batches to summarize, be patient...: 0it [00:00, ?it/s]\n",
      "Iterating through all batches to summarize, be patient...: 0it [00:00, ?it/s]\n",
      "Iterating through all batches to summarize, be patient...: 0it [00:00, ?it/s]\n",
      "Iterating through all batches to summarize, be patient...: 0it [00:00, ?it/s]\n",
      "Iterating through all batches to summarize, be patient...: 0it [00:00, ?it/s]\n",
      "Iterating through all batches to summarize, be patient...: 0it [00:00, ?it/s]\n"
     ]
    },
    {
     "name": "stdout",
     "output_type": "stream",
     "text": [
      "1/1 [==============================] - 2s 2s/step\n",
      "Epoch 1/13\n"
     ]
    },
    {
     "name": "stderr",
     "output_type": "stream",
     "text": [
      "2024-10-22 20:15:47.201483: W tensorflow/tsl/framework/cpu_allocator_impl.cc:83] Allocation of 2491977960 exceeds 10% of free system memory.\n",
      "2024-10-22 20:15:47.963075: W tensorflow/tsl/framework/cpu_allocator_impl.cc:83] Allocation of 3325163520 exceeds 10% of free system memory.\n",
      "2024-10-22 20:15:48.425983: W tensorflow/tsl/framework/cpu_allocator_impl.cc:83] Allocation of 3325163520 exceeds 10% of free system memory.\n",
      "2024-10-22 20:15:48.426019: W tensorflow/tsl/framework/cpu_allocator_impl.cc:83] Allocation of 3325163520 exceeds 10% of free system memory.\n",
      "2024-10-22 20:15:49.601378: W tensorflow/tsl/framework/cpu_allocator_impl.cc:83] Allocation of 3330218880 exceeds 10% of free system memory.\n"
     ]
    },
    {
     "name": "stdout",
     "output_type": "stream",
     "text": [
      "9/9 [==============================] - 132s 14s/step - loss: 2.9314 - accuracy: 0.1000 - sparse_categorical_accuracy: 0.1000\n",
      "Epoch 2/13\n",
      "9/9 [==============================] - 130s 14s/step - loss: 2.9028 - accuracy: 0.1000 - sparse_categorical_accuracy: 0.1000\n",
      "Epoch 3/13\n",
      "9/9 [==============================] - 130s 14s/step - loss: 2.7915 - accuracy: 0.1000 - sparse_categorical_accuracy: 0.1000\n",
      "Epoch 4/13\n",
      "9/9 [==============================] - 132s 16s/step - loss: 2.5608 - accuracy: 0.1089 - sparse_categorical_accuracy: 0.1089\n",
      "Epoch 5/13\n",
      "9/9 [==============================] - 132s 14s/step - loss: 2.3193 - accuracy: 0.1474 - sparse_categorical_accuracy: 0.1474\n",
      "Epoch 6/13\n",
      "9/9 [==============================] - 130s 14s/step - loss: 2.0694 - accuracy: 0.2985 - sparse_categorical_accuracy: 0.2985\n",
      "Epoch 7/13\n",
      "9/9 [==============================] - 130s 14s/step - loss: 1.4984 - accuracy: 0.4754 - sparse_categorical_accuracy: 0.4754\n",
      "Epoch 8/13\n",
      "9/9 [==============================] - 131s 14s/step - loss: 1.5648 - accuracy: 0.5598 - sparse_categorical_accuracy: 0.5598\n",
      "Epoch 9/13\n",
      "9/9 [==============================] - 130s 14s/step - loss: 6.6123 - accuracy: 0.4841 - sparse_categorical_accuracy: 0.4841\n",
      "Epoch 10/13\n",
      "9/9 [==============================] - 130s 16s/step - loss: 30.9382 - accuracy: 0.3399 - sparse_categorical_accuracy: 0.3399\n",
      "Epoch 11/13\n",
      "9/9 [==============================] - 16s 812us/step - loss: 82.6980 - accuracy: 0.3936 - sparse_categorical_accuracy: 0.3936\n"
     ]
    }
   ],
   "source": [
    "finder = pychemauth.utils.NNTools.find_learning_rate(\n",
    "    cnn_builder.build(),\n",
    "    loader,\n",
    "    start_lr=1.0e-5,\n",
    ")"
   ]
  },
  {
   "cell_type": "code",
   "execution_count": 10,
   "id": "7bb1c227",
   "metadata": {
    "ExecuteTime": {
     "end_time": "2024-08-27T19:41:11.807954Z",
     "start_time": "2024-08-27T19:41:11.226025Z"
    },
    "hidden": true
   },
   "outputs": [
    {
     "data": {
      "image/png": "[encoded data removed]",
      "text/plain": [
       "<Figure size 640x480 with 1 Axes>"
      ]
     },
     "metadata": {},
     "output_type": "display_data"
    }
   ],
   "source": [
    "frac = 0.6\n",
    "\n",
    "ax = finder.plot()\n",
    "ax.set_yscale('log')\n",
    "ax.set_ylim(1,4)\n",
    "for l_ in finder.estimate_clr(frac=frac, skip=0):\n",
    "    ax.axvline(l_, color='red')"
   ]
  },
  {
   "cell_type": "code",
   "execution_count": 11,
   "id": "1ea94e10",
   "metadata": {
    "ExecuteTime": {
     "end_time": "2024-08-27T19:41:36.240940Z",
     "start_time": "2024-08-27T19:41:35.532654Z"
    },
    "hidden": true
   },
   "outputs": [],
   "source": [
    "# pickle.dump(finder, open('model1_lrf.pkl', 'wb'), protocol=4)"
   ]
  },
  {
   "cell_type": "markdown",
   "id": "07fd5626",
   "metadata": {
    "heading_collapsed": true
   },
   "source": [
    "# Model 2"
   ]
  },
  {
   "cell_type": "code",
   "execution_count": 9,
   "id": "21048aff",
   "metadata": {
    "ExecuteTime": {
     "end_time": "2024-10-23T00:39:25.289222Z",
     "start_time": "2024-10-23T00:39:25.239088Z"
    },
    "hidden": true
   },
   "outputs": [],
   "source": [
    "cnn_builder = CNNFactory(\n",
    "    name='nasnetmobile',\n",
    "    input_size=image_size,\n",
    "    n_classes=n_classes,\n",
    "    pixel_range=(-1,1),\n",
    "    cam=True,\n",
    "    dropout=0.2\n",
    ") "
   ]
  },
  {
   "cell_type": "code",
   "execution_count": 10,
   "id": "5461c377",
   "metadata": {
    "ExecuteTime": {
     "end_time": "2024-10-23T00:39:31.864842Z",
     "start_time": "2024-10-23T00:39:25.509229Z"
    },
    "hidden": true
   },
   "outputs": [
    {
     "name": "stdout",
     "output_type": "stream",
     "text": [
      "Model: \"model_2\"\n",
      "_________________________________________________________________\n",
      " Layer (type)                Output Shape              Param #   \n",
      "=================================================================\n",
      " input_6 (InputLayer)        [(None, 2631, 2631, 1)]   0         \n",
      "                                                                 \n",
      " conv2d_2 (Conv2D)           (None, 2631, 2631, 3)     3         \n",
      "                                                                 \n",
      " rescaling_4 (Rescaling)     (None, 2631, 2631, 3)     0         \n",
      "                                                                 \n",
      " tf.math.truediv (TFOpLambd  (None, 2631, 2631, 3)     0         \n",
      " a)                                                              \n",
      "                                                                 \n",
      " tf.math.subtract (TFOpLamb  (None, 2631, 2631, 3)     0         \n",
      " da)                                                             \n",
      "                                                                 \n",
      " NASNet (Functional)         (None, 83, 83, 1056)      4269716   \n",
      "                                                                 \n",
      " global_average_pooling2d_2  (None, 1056)              0         \n",
      "  (GlobalAveragePooling2D)                                       \n",
      "                                                                 \n",
      " dropout_2 (Dropout)         (None, 1056)              0         \n",
      "                                                                 \n",
      " dense_2 (Dense)             (None, 10)                10570     \n",
      "                                                                 \n",
      "=================================================================\n",
      "Total params: 4280289 (16.33 MB)\n",
      "Trainable params: 10570 (41.29 KB)\n",
      "Non-trainable params: 4269719 (16.29 MB)\n",
      "_________________________________________________________________\n"
     ]
    }
   ],
   "source": [
    "cnn_builder.build().summary()"
   ]
  },
  {
   "cell_type": "code",
   "execution_count": 11,
   "id": "edf4cadf",
   "metadata": {
    "ExecuteTime": {
     "end_time": "2024-10-23T01:47:19.805802Z",
     "start_time": "2024-10-23T00:39:31.866961Z"
    },
    "hidden": true
   },
   "outputs": [
    {
     "name": "stderr",
     "output_type": "stream",
     "text": [
      "Iterating through all batches to summarize, be patient...: 0it [00:00, ?it/s]\n",
      "Iterating through all batches to summarize, be patient...: 0it [00:00, ?it/s]\n",
      "Iterating through all batches to summarize, be patient...: 0it [00:00, ?it/s]\n",
      "Iterating through all batches to summarize, be patient...: 0it [00:00, ?it/s]\n",
      "Iterating through all batches to summarize, be patient...: 0it [00:00, ?it/s]\n",
      "Iterating through all batches to summarize, be patient...: 0it [00:00, ?it/s]\n",
      "Iterating through all batches to summarize, be patient...: 0it [00:00, ?it/s]\n",
      "Iterating through all batches to summarize, be patient...: 0it [00:00, ?it/s]\n",
      "Iterating through all batches to summarize, be patient...: 0it [00:00, ?it/s]\n",
      "Iterating through all batches to summarize, be patient...: 0it [00:00, ?it/s]\n"
     ]
    },
    {
     "name": "stdout",
     "output_type": "stream",
     "text": [
      "1/1 [==============================] - 5s 5s/step\n",
      "Epoch 1/13\n",
      "9/9 [==============================] - 411s 44s/step - loss: 2.6115 - accuracy: 0.0931 - sparse_categorical_accuracy: 0.0931\n",
      "Epoch 2/13\n",
      "9/9 [==============================] - 399s 44s/step - loss: 2.5857 - accuracy: 0.0708 - sparse_categorical_accuracy: 0.0708\n",
      "Epoch 3/13\n",
      "9/9 [==============================] - 396s 43s/step - loss: 2.5421 - accuracy: 0.0738 - sparse_categorical_accuracy: 0.0738\n",
      "Epoch 4/13\n",
      "9/9 [==============================] - 396s 49s/step - loss: 2.3682 - accuracy: 0.0851 - sparse_categorical_accuracy: 0.0851\n",
      "Epoch 5/13\n",
      "9/9 [==============================] - 397s 43s/step - loss: 2.2530 - accuracy: 0.1733 - sparse_categorical_accuracy: 0.1733\n",
      "Epoch 6/13\n",
      "9/9 [==============================] - 399s 44s/step - loss: 1.6911 - accuracy: 0.4451 - sparse_categorical_accuracy: 0.4451\n",
      "Epoch 7/13\n",
      "9/9 [==============================] - 396s 43s/step - loss: 1.0268 - accuracy: 0.6830 - sparse_categorical_accuracy: 0.6830\n",
      "Epoch 8/13\n",
      "9/9 [==============================] - 396s 43s/step - loss: 1.3472 - accuracy: 0.6742 - sparse_categorical_accuracy: 0.6742\n",
      "Epoch 9/13\n",
      "9/9 [==============================] - 395s 43s/step - loss: 4.5168 - accuracy: 0.5933 - sparse_categorical_accuracy: 0.5933\n",
      "Epoch 10/13\n",
      "9/9 [==============================] - 397s 49s/step - loss: 41.2433 - accuracy: 0.3443 - sparse_categorical_accuracy: 0.3443\n",
      "Epoch 11/13\n",
      "9/9 [==============================] - 48s 991us/step - loss: 119.1323 - accuracy: 0.3322 - sparse_categorical_accuracy: 0.3322\n"
     ]
    }
   ],
   "source": [
    "finder = pychemauth.utils.NNTools.find_learning_rate(\n",
    "    cnn_builder.build(),\n",
    "    loader,\n",
    "    start_lr=1.0e-5,\n",
    ")"
   ]
  },
  {
   "cell_type": "code",
   "execution_count": 12,
   "id": "c9cd2a1f",
   "metadata": {
    "ExecuteTime": {
     "end_time": "2024-10-23T01:47:20.354455Z",
     "start_time": "2024-10-23T01:47:19.810125Z"
    },
    "hidden": true
   },
   "outputs": [
    {
     "data": {
      "image/png": "[encoded data removed]",
      "text/plain": [
       "<Figure size 640x480 with 1 Axes>"
      ]
     },
     "metadata": {},
     "output_type": "display_data"
    }
   ],
   "source": [
    "frac = 0.75\n",
    "\n",
    "ax = finder.plot()\n",
    "ax.set_yscale('log')\n",
    "ax.set_ylim(1,4)\n",
    "for l_ in finder.estimate_clr(frac=frac, skip=5):\n",
    "    ax.axvline(l_, color='red')"
   ]
  },
  {
   "cell_type": "code",
   "execution_count": 15,
   "id": "fac9b28e",
   "metadata": {
    "ExecuteTime": {
     "end_time": "2024-08-27T20:49:49.853024Z",
     "start_time": "2024-08-27T20:49:47.322289Z"
    },
    "hidden": true
   },
   "outputs": [],
   "source": [
    "# pickle.dump(finder, open('model2_lrf.pkl', 'wb'), protocol=4)"
   ]
  },
  {
   "cell_type": "markdown",
   "id": "7dacd9f8",
   "metadata": {
    "ExecuteTime": {
     "end_time": "2024-08-05T14:21:19.347275Z",
     "start_time": "2024-08-05T14:21:19.340213Z"
    },
    "heading_collapsed": true
   },
   "source": [
    "# Model 3 "
   ]
  },
  {
   "cell_type": "code",
   "execution_count": 13,
   "id": "8fe90dda",
   "metadata": {
    "ExecuteTime": {
     "end_time": "2024-10-23T01:47:20.397593Z",
     "start_time": "2024-10-23T01:47:20.356056Z"
    },
    "hidden": true
   },
   "outputs": [],
   "source": [
    "cnn_builder = CNNFactory(\n",
    "    name='inceptionv3',\n",
    "    input_size=image_size,\n",
    "    n_classes=n_classes,\n",
    "    pixel_range=(-1,1),\n",
    "    cam=True,\n",
    "    dropout=0.2\n",
    ") "
   ]
  },
  {
   "cell_type": "code",
   "execution_count": 14,
   "id": "f0c12723",
   "metadata": {
    "ExecuteTime": {
     "end_time": "2024-10-23T01:47:23.335129Z",
     "start_time": "2024-10-23T01:47:20.400058Z"
    },
    "hidden": true
   },
   "outputs": [
    {
     "name": "stdout",
     "output_type": "stream",
     "text": [
      "Model: \"model_4\"\n",
      "_________________________________________________________________\n",
      " Layer (type)                Output Shape              Param #   \n",
      "=================================================================\n",
      " input_10 (InputLayer)       [(None, 2631, 2631, 1)]   0         \n",
      "                                                                 \n",
      " conv2d_98 (Conv2D)          (None, 2631, 2631, 3)     3         \n",
      "                                                                 \n",
      " rescaling_6 (Rescaling)     (None, 2631, 2631, 3)     0         \n",
      "                                                                 \n",
      " tf.math.truediv_2 (TFOpLam  (None, 2631, 2631, 3)     0         \n",
      " bda)                                                            \n",
      "                                                                 \n",
      " tf.math.subtract_2 (TFOpLa  (None, 2631, 2631, 3)     0         \n",
      " mbda)                                                           \n",
      "                                                                 \n",
      " inception_v3 (Functional)   (None, 80, 80, 2048)      21802784  \n",
      "                                                                 \n",
      " global_average_pooling2d_4  (None, 2048)              0         \n",
      "  (GlobalAveragePooling2D)                                       \n",
      "                                                                 \n",
      " dropout_4 (Dropout)         (None, 2048)              0         \n",
      "                                                                 \n",
      " dense_4 (Dense)             (None, 10)                20490     \n",
      "                                                                 \n",
      "=================================================================\n",
      "Total params: 21823277 (83.25 MB)\n",
      "Trainable params: 20490 (80.04 KB)\n",
      "Non-trainable params: 21802787 (83.17 MB)\n",
      "_________________________________________________________________\n"
     ]
    }
   ],
   "source": [
    "cnn_builder.build().summary()"
   ]
  },
  {
   "cell_type": "code",
   "execution_count": 15,
   "id": "b5328cb7",
   "metadata": {
    "ExecuteTime": {
     "end_time": "2024-10-23T02:56:06.078717Z",
     "start_time": "2024-10-23T01:47:23.337493Z"
    },
    "hidden": true
   },
   "outputs": [
    {
     "name": "stderr",
     "output_type": "stream",
     "text": [
      "Iterating through all batches to summarize, be patient...: 0it [00:00, ?it/s]\n",
      "Iterating through all batches to summarize, be patient...: 0it [00:00, ?it/s]\n",
      "Iterating through all batches to summarize, be patient...: 0it [00:00, ?it/s]\n",
      "Iterating through all batches to summarize, be patient...: 0it [00:00, ?it/s]\n",
      "Iterating through all batches to summarize, be patient...: 0it [00:00, ?it/s]\n",
      "Iterating through all batches to summarize, be patient...: 0it [00:00, ?it/s]\n",
      "Iterating through all batches to summarize, be patient...: 0it [00:00, ?it/s]\n",
      "Iterating through all batches to summarize, be patient...: 0it [00:00, ?it/s]\n",
      "Iterating through all batches to summarize, be patient...: 0it [00:00, ?it/s]\n",
      "Iterating through all batches to summarize, be patient...: 0it [00:00, ?it/s]\n"
     ]
    },
    {
     "name": "stdout",
     "output_type": "stream",
     "text": [
      "1/1 [==============================] - 3s 3s/step\n",
      "Epoch 1/13\n",
      "9/9 [==============================] - 413s 45s/step - loss: 2.3540 - accuracy: 0.0539 - sparse_categorical_accuracy: 0.0539\n",
      "Epoch 2/13\n",
      "9/9 [==============================] - 410s 45s/step - loss: 2.3605 - accuracy: 0.0338 - sparse_categorical_accuracy: 0.0338\n",
      "Epoch 3/13\n",
      "9/9 [==============================] - 410s 45s/step - loss: 2.3225 - accuracy: 0.0755 - sparse_categorical_accuracy: 0.0755\n",
      "Epoch 4/13\n",
      "9/9 [==============================] - 409s 50s/step - loss: 2.3031 - accuracy: 0.0585 - sparse_categorical_accuracy: 0.0585\n",
      "Epoch 5/13\n",
      "9/9 [==============================] - 408s 45s/step - loss: 2.2032 - accuracy: 0.1127 - sparse_categorical_accuracy: 0.1127\n",
      "Epoch 6/13\n",
      "9/9 [==============================] - 408s 45s/step - loss: 1.7911 - accuracy: 0.3586 - sparse_categorical_accuracy: 0.3586\n",
      "Epoch 7/13\n",
      "9/9 [==============================] - 409s 45s/step - loss: 1.1397 - accuracy: 0.7083 - sparse_categorical_accuracy: 0.7083\n",
      "Epoch 8/13\n",
      "9/9 [==============================] - 407s 45s/step - loss: 2.1117 - accuracy: 0.5303 - sparse_categorical_accuracy: 0.5303\n",
      "Epoch 9/13\n",
      "9/9 [==============================] - 409s 45s/step - loss: 10.5306 - accuracy: 0.4138 - sparse_categorical_accuracy: 0.4138\n",
      "Epoch 10/13\n",
      "9/9 [==============================] - 408s 50s/step - loss: 29.0778 - accuracy: 0.4738 - sparse_categorical_accuracy: 0.4738\n"
     ]
    }
   ],
   "source": [
    "finder = pychemauth.utils.NNTools.find_learning_rate(\n",
    "    cnn_builder.build(),\n",
    "    loader,\n",
    "    start_lr=1.0e-5,\n",
    ")"
   ]
  },
  {
   "cell_type": "code",
   "execution_count": 16,
   "id": "d949361f",
   "metadata": {
    "ExecuteTime": {
     "end_time": "2024-10-23T02:56:07.254469Z",
     "start_time": "2024-10-23T02:56:06.083365Z"
    },
    "hidden": true
   },
   "outputs": [
    {
     "data": {
      "image/png": "[encoded data removed]",
      "text/plain": [
       "<Figure size 640x480 with 1 Axes>"
      ]
     },
     "metadata": {},
     "output_type": "display_data"
    }
   ],
   "source": [
    "frac = 0.75\n",
    "\n",
    "ax = finder.plot()\n",
    "ax.set_yscale('log')\n",
    "ax.set_ylim(1,4)\n",
    "for l_ in finder.estimate_clr(frac=frac, skip=20):\n",
    "    ax.axvline(l_, color='red')"
   ]
  },
  {
   "cell_type": "code",
   "execution_count": 19,
   "id": "d90ffab4",
   "metadata": {
    "ExecuteTime": {
     "end_time": "2024-08-27T21:57:59.296066Z",
     "start_time": "2024-08-27T21:57:57.541319Z"
    },
    "hidden": true
   },
   "outputs": [],
   "source": [
    "# pickle.dump(finder, open('model3_lrf.pkl', 'wb'), protocol=4)"
   ]
  }
 ],
 "metadata": {
  "kernelspec": {
   "display_name": "pgaa-imaging",
   "language": "python",
   "name": "pgaa-imaging"
  },
  "language_info": {
   "codemirror_mode": {
    "name": "ipython",
    "version": 3
   },
   "file_extension": ".py",
   "mimetype": "text/x-python",
   "name": "python",
   "nbconvert_exporter": "python",
   "pygments_lexer": "ipython3",
   "version": "3.11.4"
  }
 },
 "nbformat": 4,
 "nbformat_minor": 5
}
